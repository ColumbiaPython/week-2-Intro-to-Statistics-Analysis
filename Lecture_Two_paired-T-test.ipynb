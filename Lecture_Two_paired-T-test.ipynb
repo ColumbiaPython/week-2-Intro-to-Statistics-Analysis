{
 "cells": [
  {
   "cell_type": "markdown",
   "metadata": {},
   "source": [
    "# Case Background\n",
    "A Columbia researcher, Dr. Chan, is comparing students' academic motivation scores in two different high schools in New York City, one school has mandatory uniforms for students and the other one that has no such requirement.  \n",
    "\n",
    "The main dependent variable is academic motivation score.  \n",
    "\n",
    "The researcher is concerned that students in School A (with the uniforms policy) may differ in academic ability and social economic status from students in school B (without the uniforms policy).  \n",
    "\n",
    "1. takes a sample of 7 students from each of the school A and B\n",
    "2. creates pairs of 8th-grade students, one from each school, who are matched on both a reading score measure from a state test, and on a classification of the student’s social economic status into five ordered categories based on student responses to a questionnaire.  \n",
    "3. Sample scores on the academic motivation measure from seven of these matched pairs of students are given below.  A higher score indicates more positive motivation.\n",
    "\n",
    "A school students: 23, 21, 17, 27, 27, 18, 20\n",
    "\n",
    "B school students: 23, 16, 20, 21, 23, 14, 21"
   ]
  },
  {
   "cell_type": "markdown",
   "metadata": {},
   "source": [
    "# Problem 1\n",
    "Analyze the data given above to test (at .05) if academic motivation differs at the two schools, controlling for academic ability and social economic status. "
   ]
  },
  {
   "cell_type": "code",
   "execution_count": 1,
   "metadata": {},
   "outputs": [],
   "source": [
    "from scipy import stats"
   ]
  },
  {
   "cell_type": "code",
   "execution_count": 2,
   "metadata": {},
   "outputs": [],
   "source": [
    "# input data\n",
    "data1=[23, 21, 17, 27, 27, 18, 20]\n",
    "data2=[23, 16, 20, 21, 23, 14, 21]"
   ]
  },
  {
   "cell_type": "code",
   "execution_count": 3,
   "metadata": {},
   "outputs": [
    {
     "data": {
      "text/plain": [
       "Ttest_relResult(statistic=1.6497800439902246, pvalue=0.15008123419913932)"
      ]
     },
     "execution_count": 3,
     "metadata": {},
     "output_type": "execute_result"
    }
   ],
   "source": [
    "stats.ttest_rel(data1,data2)"
   ]
  },
  {
   "cell_type": "markdown",
   "metadata": {},
   "source": [
    "This test is used when the samples are dependent; that is, when there is only one sample that has been tested twice (repeated measures) or when there are two samples that have been matched or \"paired\". This is an example of a paired difference test.\n",
    "\n",
    "Examples for the use are scores of the same set of student in different exams, or repeated sampling from the same units. The test measures whether the average score differs significantly across samples (e.g. exams). If we observe a large p-value, for example greater than 0.05 or 0.1 then we cannot reject the null hypothesis of identical average scores. If the p-value is smaller than the threshold, e.g. 1%, 5% or 10%, then we reject the null hypothesis of equal averages. Small p-values are associated with large t-statistics.\n",
    "\n",
    "Reference: https://docs.scipy.org/doc/scipy/reference/generated/scipy.stats.ttest_rel.html"
   ]
  },
  {
   "cell_type": "markdown",
   "metadata": {},
   "source": [
    "# Answer for Problem 1: \n",
    "The p-value=0.15 larger than 0.05, fail to reject the null hypothesis. Academic motivation does not differ at the two schools."
   ]
  },
  {
   "cell_type": "code",
   "execution_count": null,
   "metadata": {},
   "outputs": [],
   "source": []
  }
 ],
 "metadata": {
  "kernelspec": {
   "display_name": "Python 3",
   "language": "python",
   "name": "python3"
  },
  "language_info": {
   "codemirror_mode": {
    "name": "ipython",
    "version": 3
   },
   "file_extension": ".py",
   "mimetype": "text/x-python",
   "name": "python",
   "nbconvert_exporter": "python",
   "pygments_lexer": "ipython3",
   "version": "3.6.5"
  }
 },
 "nbformat": 4,
 "nbformat_minor": 2
}
